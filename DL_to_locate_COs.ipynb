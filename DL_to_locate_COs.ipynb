{
 "cells": [
  {
   "cell_type": "markdown",
   "metadata": {},
   "source": [
    "# A Deep-Learning Technique to Locate  Cryptographic Operation in Side-Channel Traces"
   ]
  },
  {
   "cell_type": "code",
   "execution_count": null,
   "metadata": {},
   "outputs": [],
   "source": [
    "! pip install -r requirements.txt"
   ]
  },
  {
   "cell_type": "code",
   "execution_count": 1,
   "metadata": {},
   "outputs": [],
   "source": [
    "import numpy as np\n",
    "from tqdm.auto import tqdm\n",
    "\n",
    "from CNN.train import train \n",
    "from inference_pipeline.sliding_window_classification import getModule, classifyTrace, saveClassification\n",
    "from inference_pipeline.segmentation import squareWave, medianFilter, getStartCOs, plotStartCOs\n",
    "from inference_pipeline.alignment import alignCos, saveCos"
   ]
  },
  {
   "cell_type": "markdown",
   "metadata": {},
   "source": [
    "## Train CNN"
   ]
  },
  {
   "cell_type": "markdown",
   "metadata": {},
   "source": [
    "Each CNN is configure thanks to a YALM configuration file.  \n",
    "You can set different module hyper-parameters as well as the dataset, the logger, and the experiment configurations.  \n",
    "Default configuration are in `CNN/configs` directory, both for Neputune logger and for the experiment. "
   ]
  },
  {
   "cell_type": "code",
   "execution_count": null,
   "metadata": {},
   "outputs": [],
   "source": [
    "config_folder = \"CNN/configs/exp\" # /path/to/experiment/config/folder/"
   ]
  },
  {
   "cell_type": "code",
   "execution_count": null,
   "metadata": {},
   "outputs": [],
   "source": [
    "train(config_folder)"
   ]
  },
  {
   "cell_type": "markdown",
   "metadata": {},
   "source": [
    "## Sliding Window Classification"
   ]
  },
  {
   "cell_type": "code",
   "execution_count": null,
   "metadata": {},
   "outputs": [],
   "source": [
    "output_file = \"</path/to/output_file>\"\n",
    "trace_file = \"</path/to/trace_file>\"\n",
    "SID = \"<Neptune_SID>\""
   ]
  },
  {
   "cell_type": "markdown",
   "metadata": {},
   "source": [
    "Get the trained CNN starting from Neptune SID."
   ]
  },
  {
   "cell_type": "code",
   "execution_count": null,
   "metadata": {},
   "outputs": [],
   "source": [
    "module = getModule(SID)"
   ]
  },
  {
   "cell_type": "markdown",
   "metadata": {},
   "source": [
    "Compute and save classification as file `output_file`.  \n",
    "Function _classifyTrace_ has a few parameters to configure based on the experiment:\n",
    "- `stride`: Define the stride to use for the sliding window.\n",
    "- `window_size`: Define the size of the sliding window itself."
   ]
  },
  {
   "cell_type": "code",
   "execution_count": null,
   "metadata": {},
   "outputs": [],
   "source": [
    "stride = 1_000\n",
    "window_size = 20_000"
   ]
  },
  {
   "cell_type": "code",
   "execution_count": null,
   "metadata": {},
   "outputs": [],
   "source": [
    "classification = classifyTrace(trace_file, module, stride, window_size)\n",
    "saveClassification(classification, output_file)"
   ]
  },
  {
   "cell_type": "markdown",
   "metadata": {},
   "source": [
    "## Segmentation"
   ]
  },
  {
   "cell_type": "markdown",
   "metadata": {},
   "source": [
    "Compute the segmenation and find the starting sample of each cryptografic operation.  \n",
    "Functions _medianFilter_ and _getStartCOs_ have a few parameters to configure based on the experiment."
   ]
  },
  {
   "cell_type": "code",
   "execution_count": null,
   "metadata": {},
   "outputs": [],
   "source": [
    "classification_file = output_file\n",
    "score_class = 1\n",
    "min_distance = 200\n",
    "kernel_size = 3"
   ]
  },
  {
   "cell_type": "code",
   "execution_count": null,
   "metadata": {},
   "outputs": [],
   "source": [
    "classifications = np.load(classification_file, mmap_mode='r')[:, :, score_class]\n",
    "startCOs = []\n",
    "\n",
    "for classification in tqdm(classifications):\n",
    "    square_wave = squareWave(classification)\n",
    "    clean_square_wave = medianFilter(square_wave, kernel_size)\n",
    "    startCOs.append(getStartCOs(clean_square_wave, min_distance, noise_applications=False))\n",
    "\n",
    "n_COs = sum([len(co) for co in startCOs])\n",
    "print(f\"{n_COs} COs have been found in the trace.\")"
   ]
  },
  {
   "cell_type": "code",
   "execution_count": null,
   "metadata": {},
   "outputs": [],
   "source": [
    "plotStartCOs(startCOs, classifications)"
   ]
  },
  {
   "cell_type": "markdown",
   "metadata": {},
   "source": [
    "## Alignment"
   ]
  },
  {
   "cell_type": "markdown",
   "metadata": {},
   "source": [
    "Align in time the found COs.  \n",
    "Some parameters, such as _slide_, has to be set as used in sliding window classification."
   ]
  },
  {
   "cell_type": "code",
   "execution_count": null,
   "metadata": {},
   "outputs": [],
   "source": [
    "trace_file =  \"</path/to/trace_file>\" # same trace as input of Sliding Window Classification\n",
    "output_file = \"</path/to/output_file>\" \n",
    "stride = 1_000 # same value as input of Sliding Window Classification"
   ]
  },
  {
   "cell_type": "code",
   "execution_count": null,
   "metadata": {},
   "outputs": [],
   "source": [
    "trace =  np.load(trace_file, mmap_mode='r')\n",
    "COs = alignCos(trace, startCOs, stride)\n",
    "saveCos(output_file, COs)"
   ]
  }
 ],
 "metadata": {
  "kernelspec": {
   "display_name": "Python 3",
   "language": "python",
   "name": "python3"
  },
  "language_info": {
   "codemirror_mode": {
    "name": "ipython",
    "version": 3
   },
   "file_extension": ".py",
   "mimetype": "text/x-python",
   "name": "python",
   "nbconvert_exporter": "python",
   "pygments_lexer": "ipython3",
   "version": "3.11.7"
  }
 },
 "nbformat": 4,
 "nbformat_minor": 2
}
