{
 "cells": [
  {
   "cell_type": "markdown",
   "metadata": {},
   "source": [
    "# A Deep-Learning Technique to Locate  Cryptographic Operation in Side-Channel Traces"
   ]
  },
  {
   "cell_type": "code",
   "execution_count": null,
   "metadata": {},
   "outputs": [],
   "source": [
    "! pip install -r requirements.txt"
   ]
  },
  {
   "cell_type": "code",
   "execution_count": null,
   "metadata": {},
   "outputs": [],
   "source": [
    "import numpy as np\n",
    "from tqdm.auto import tqdm\n",
    "\n",
    "from CNN.train import train \n",
    "from inference_pipeline.sliding_window_classification import getModule, classifyTrace, saveClassification\n",
    "from inference_pipeline.segmentation import squareWave, medianFilter, getStartCOs, plotStartCOs\n",
    "from inference_pipeline.alignment import alignCos, saveCos, padCos\n",
    "from inference_pipeline.cpa import Cpa"
   ]
  },
  {
   "cell_type": "markdown",
   "metadata": {},
   "source": [
    "## Train CNN"
   ]
  },
  {
   "cell_type": "markdown",
   "metadata": {},
   "source": [
    "Each CNN is configure thanks to a YALM configuration file.  \n",
    "You can set different module hyper-parameters as well as the dataset, the logger, and the experiment configurations.  \n",
    "Default configuration are in `CNN/configs` directory, both for Neputune logger and for the experiment. "
   ]
  },
  {
   "cell_type": "code",
   "execution_count": null,
   "metadata": {},
   "outputs": [],
   "source": [
    "config_folder = \"CNN/configs/exp\" # /path/to/experiment/config/folder/"
   ]
  },
  {
   "cell_type": "code",
   "execution_count": null,
   "metadata": {},
   "outputs": [],
   "source": [
    "train(config_folder)"
   ]
  },
  {
   "cell_type": "markdown",
   "metadata": {},
   "source": [
    "## Sliding Window Classification"
   ]
  },
  {
   "cell_type": "code",
   "execution_count": null,
   "metadata": {},
   "outputs": [],
   "source": [
    "classification_output_file = \"</path/to/output_file>\"\n",
    "trace_file = \"</path/to/trace_file>\"\n",
    "SID = \"<Neptune_SID>\""
   ]
  },
  {
   "cell_type": "markdown",
   "metadata": {},
   "source": [
    "Get the trained CNN starting from Neptune SID."
   ]
  },
  {
   "cell_type": "code",
   "execution_count": null,
   "metadata": {},
   "outputs": [],
   "source": [
    "module = getModule(SID)"
   ]
  },
  {
   "cell_type": "markdown",
   "metadata": {},
   "source": [
    "Compute and save classification as file `output_file`.  \n",
    "Function _classifyTrace_ has a few parameters to configure based on the experiment:\n",
    "- `stride`: Define the stride to use for the sliding window.\n",
    "- `window_size`: Define the size of the sliding window itself."
   ]
  },
  {
   "cell_type": "code",
   "execution_count": null,
   "metadata": {},
   "outputs": [],
   "source": [
    "stride = 1_000\n",
    "window_size = 20_000"
   ]
  },
  {
   "cell_type": "code",
   "execution_count": null,
   "metadata": {},
   "outputs": [],
   "source": [
    "classification = classifyTrace(trace_file, module, stride, window_size)\n",
    "saveClassification(classification, classification_output_file)"
   ]
  },
  {
   "cell_type": "markdown",
   "metadata": {},
   "source": [
    "## Segmentation"
   ]
  },
  {
   "cell_type": "markdown",
   "metadata": {},
   "source": [
    "Compute the segmenation and find the starting sample of each cryptografic operation.  \n",
    "Functions _medianFilter_ and _getStartCOs_ have a few parameters to configure based on the experiment."
   ]
  },
  {
   "cell_type": "code",
   "execution_count": null,
   "metadata": {},
   "outputs": [],
   "source": [
    "classification_file = classification_output_file\n",
    "score_class = 0\n",
    "min_distance = 200\n",
    "kernel_size = 7"
   ]
  },
  {
   "cell_type": "code",
   "execution_count": null,
   "metadata": {},
   "outputs": [],
   "source": [
    "classifications = np.load(classification_file, mmap_mode='r')[:, :, score_class]\n",
    "startCOs = []\n",
    "\n",
    "for classification in tqdm(classifications):\n",
    "    square_wave = squareWave(classification)\n",
    "    clean_square_wave = medianFilter(square_wave, kernel_size)\n",
    "    startCOs.append(getStartCOs(clean_square_wave, min_distance, noise_applications=False))\n",
    "\n",
    "n_COs = sum([len(co) for co in startCOs])\n",
    "print(f\"{n_COs} COs have been found in the trace.\")"
   ]
  },
  {
   "cell_type": "code",
   "execution_count": null,
   "metadata": {},
   "outputs": [],
   "source": [
    "plotStartCOs(startCOs, classifications)"
   ]
  },
  {
   "cell_type": "markdown",
   "metadata": {},
   "source": [
    "## Alignment"
   ]
  },
  {
   "cell_type": "markdown",
   "metadata": {},
   "source": [
    "Align in time the found COs.  \n",
    "Some parameters, such as _slide_, has to be set as used in sliding window classification."
   ]
  },
  {
   "cell_type": "code",
   "execution_count": null,
   "metadata": {},
   "outputs": [],
   "source": [
    "trace_file =  \"</path/to/trace_file>\" # same as input of Sliding Window Classification\n",
    "cos_output_file = \"</path/to/output_file>\"\n",
    "stride = 1_000 # same as input of Sliding Window Classification"
   ]
  },
  {
   "cell_type": "code",
   "execution_count": null,
   "metadata": {},
   "outputs": [],
   "source": [
    "trace =  np.load(trace_file, mmap_mode='r')\n",
    "COs = alignCos(trace, startCOs, stride)\n",
    "saveCos(COs, cos_output_file)"
   ]
  },
  {
   "cell_type": "markdown",
   "metadata": {},
   "source": [
    "## CPA attack"
   ]
  },
  {
   "cell_type": "code",
   "execution_count": null,
   "metadata": {},
   "outputs": [],
   "source": [
    "plaintext_file =  \"</path/to/plaintext_file>\"\n",
    "cos_file = \"</path/to/cos_file>\"\n",
    "key = [0x00, 0xe4, 0x15, 0x16, 0xa1, 0xae, 0xd2, 0xa6, 0xab, 0xf6, 0x25, 0x88, 0x0d, 0xef, 0x41, 0x30]\n",
    "\n",
    "cos = np.load(cos_file, allow_pickle=True)\n",
    "plains = np.load(plaintext_file)"
   ]
  },
  {
   "cell_type": "code",
   "execution_count": null,
   "metadata": {},
   "outputs": [],
   "source": [
    "traces = padCos(cos)\n",
    "\n",
    "cpa = Cpa(aggregate_n_samples=500)\n",
    "cpa.update(traces, plains)\n",
    "rank = cpa.rankKey(key)\n",
    "\n",
    "print(f\"Rank for each key byte: {rank}\")"
   ]
  },
  {
   "cell_type": "code",
   "execution_count": null,
   "metadata": {},
   "outputs": [],
   "source": [
    "byte = 0\n",
    "cpa.plot(key, byte)"
   ]
  }
 ],
 "metadata": {
  "kernelspec": {
   "display_name": "Python 3",
   "language": "python",
   "name": "python3"
  },
  "language_info": {
   "codemirror_mode": {
    "name": "ipython",
    "version": 3
   },
   "file_extension": ".py",
   "mimetype": "text/x-python",
   "name": "python",
   "nbconvert_exporter": "python",
   "pygments_lexer": "ipython3",
   "version": "3.11.7"
  }
 },
 "nbformat": 4,
 "nbformat_minor": 2
}
